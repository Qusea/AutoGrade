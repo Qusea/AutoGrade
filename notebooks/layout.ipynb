{
 "cells": [
  {
   "cell_type": "code",
   "execution_count": 1,
   "metadata": {},
   "outputs": [],
   "source": [
    "import cv2\n",
    "from imutils.perspective import four_point_transform\n",
    "from imutils import contours\n",
    "import numpy as np\n",
    "import imutils\n",
    "from matplotlib import pyplot as plt"
   ]
  },
  {
   "cell_type": "code",
   "execution_count": 2,
   "metadata": {},
   "outputs": [],
   "source": [
    "test1_blank = cv2.imread('/Users/quseasaif/Documents/Misk Data Science/Capstone/AutoGrade/data/test1/test1-blank.jpg')\n",
    "gray = cv2.cvtColor(test1_blank, cv2.COLOR_BGR2GRAY)\n",
    "blurred = cv2.GaussianBlur(gray, (5, 5), 0)\n",
    "edged = cv2.Canny(blurred, 75, 200)"
   ]
  },
  {
   "cell_type": "code",
   "execution_count": 3,
   "metadata": {},
   "outputs": [],
   "source": [
    "\n",
    "# find contours in the edge map, then initialize\n",
    "# the contour that corresponds to the document\n",
    "cnts = cv2.findContours(edged.copy(), cv2.RETR_EXTERNAL,\n",
    "\tcv2.CHAIN_APPROX_SIMPLE)\n",
    "cnts = imutils.grab_contours(cnts)\n",
    "docCnt = None\n",
    "# ensure that at least one contour was found\n",
    "if len(cnts) > 0:\n",
    "\t# sort the contours according to their size in\n",
    "\t# descending order\n",
    "\tcnts = sorted(cnts, key=cv2.contourArea, reverse=True)\n",
    "\t# loop over the sorted contours\n",
    "\tfor c in cnts:\n",
    "\t\t# approximate the contour\n",
    "\t\tperi = cv2.arcLength(c, True)\n",
    "\t\tapprox = cv2.approxPolyDP(c, 0.02 * peri, True)\n",
    "\t\t# if our approximated contour has four points,\n",
    "\t\t# then we can assume we have found the paper\n",
    "\t\tif len(approx) == 4:\n",
    "\t\t\tdocCnt = approx\n",
    "\t\t\tbreak"
   ]
  },
  {
   "cell_type": "code",
   "execution_count": 4,
   "metadata": {},
   "outputs": [],
   "source": [
    "# apply a four point perspective transform to both the\n",
    "# original image and grayscale image to obtain a top-down\n",
    "# birds eye view of the paper\n",
    "paper = four_point_transform(test1_blank, docCnt.reshape(4, 2))\n",
    "warped = four_point_transform(gray, docCnt.reshape(4, 2))"
   ]
  },
  {
   "cell_type": "code",
   "execution_count": 36,
   "metadata": {},
   "outputs": [],
   "source": [
    "# apply Otsu's thresholding method to binarize the warped\n",
    "# piece of paper\n",
    "thresh = cv2.threshold(warped, 0, 255,\n",
    "\tcv2.THRESH_BINARY_INV | cv2.THRESH_OTSU)[1]"
   ]
  },
  {
   "cell_type": "code",
   "execution_count": null,
   "metadata": {},
   "outputs": [],
   "source": [
    "# find contours in the thresholded image, then initialize\n",
    "# the list of contours that correspond to questions\n",
    "cnts = cv2.findContours(thresh, cv2.RETR_EXTERNAL,\n",
    "\tcv2.CHAIN_APPROX_SIMPLE)\n",
    "cnts = imutils.grab_contours(cnts)\n",
    "questionCnts = []\n",
    "# loop over the contours\n",
    "contours,hierarchy = cv2.findContours(thresh, 1, 2)\n",
    "print(\"Number of contours detected:\", len(contours))\n",
    "count = 0\n",
    "for cnt in contours:\n",
    "   x1,y1 = cnt[0][0]\n",
    "   approx = cv2.approxPolyDP(cnt, 0.01*cv2.arcLength(cnt, True), True)\n",
    "   if len(approx) == 4:\n",
    "      x, y, w, h = cv2.boundingRect(cnt)\n",
    "      ratio = float(w)/h\n",
    "      # if w >= 110 and w <= 130 and h >= 17 and h <= 22:\n",
    "      print(\"count\", count)\n",
    "      count += 1\n",
    "      if ratio >= 0.9 and ratio <= 1.1:\n",
    "         warped = cv2.drawContours(warped, [cnt], -1, (0,255,255), 3)\n",
    "         # cv2.putText(warped, 'Square', (x1, y1), cv2.FONT_HERSHEY_SIMPLEX, 0.6, (255, 255, 0), 2)\n",
    "      else:\n",
    "         # cv2.putText(warped, 'Rectangle', (x1, y1), cv2.FONT_HERSHEY_SIMPLEX, 0.6, (0, 255, 0), 2)\n",
    "         warped = cv2.drawContours(warped, [cnt], -1, (0,255,0), 3)\n",
    "cv2.imshow(\"Shapes\", warped)\n",
    "cv2.waitKey(0)\n",
    "cv2.destroyAllWindows()\n",
    "cv2.waitKey(1)"
   ]
  },
  {
   "cell_type": "code",
   "execution_count": 8,
   "metadata": {},
   "outputs": [],
   "source": [
    "# sort the question contours top-to-bottom, then initialize\n",
    "# the total number of correct answers\n",
    "questionCnts = contours.sort_contours(questionCnts,\n",
    "\tmethod=\"top-to-bottom\")[0]\n",
    "correct = 0\n",
    "# each question has 5 possible answers, to loop over the\n",
    "# question in batches of 5\n",
    "for (q, i) in enumerate(np.arange(0, len(questionCnts), 5)):\n",
    "\t# sort the contours for the current question from\n",
    "\t# left to right, then initialize the index of the\n",
    "\t# bubbled answer\n",
    "\tcnts = contours.sort_contours(questionCnts[i:i + 5])[0]\n",
    "\tbubbled = None"
   ]
  },
  {
   "cell_type": "code",
   "execution_count": 9,
   "metadata": {},
   "outputs": [],
   "source": [
    "# loop over the sorted contours\n",
    "for (j, c) in enumerate(cnts):\n",
    "    # construct a mask that reveals only the current\n",
    "    # \"bubble\" for the question\n",
    "    mask = np.zeros(thresh.shape, dtype=\"uint8\")\n",
    "    cv2.drawContours(mask, [c], -1, 255, -1)\n",
    "    # apply the mask to the thresholded image, then\n",
    "    # count the number of non-zero pixels in the\n",
    "    # bubble area\n",
    "    mask = cv2.bitwise_and(thresh, thresh, mask=mask)\n",
    "    total = cv2.countNonZero(mask)\n",
    "    # if the current total has a larger number of total\n",
    "    # non-zero pixels, then we are examining the currently\n",
    "    # bubbled-in answer\n",
    "    if bubbled is None or total > bubbled[0]:\n",
    "        bubbled = (total, j)\n"
   ]
  },
  {
   "cell_type": "code",
   "execution_count": 14,
   "metadata": {},
   "outputs": [
    {
     "name": "stdout",
     "output_type": "stream",
     "text": [
      "[INFO] score: 0.00%\n"
     ]
    },
    {
     "data": {
      "text/plain": [
       "-1"
      ]
     },
     "execution_count": 14,
     "metadata": {},
     "output_type": "execute_result"
    },
    {
     "ename": "",
     "evalue": "",
     "output_type": "error",
     "traceback": [
      "\u001b[1;31mThe Kernel crashed while executing code in the the current cell or a previous cell. Please review the code in the cell(s) to identify a possible cause of the failure. Click <a href='https://aka.ms/vscodeJupyterKernelCrash'>here</a> for more info. View Jupyter <a href='command:jupyter.viewOutput'>log</a> for further details."
     ]
    }
   ],
   "source": [
    "# Bubble sheet scanner and test grader using OMR, Python and OpenCV\n",
    "# grab the test taker\n",
    "score = (correct / 5.0) * 100\n",
    "print(\"[INFO] score: {:.2f}%\".format(score))\n",
    "cv2.putText(paper, \"{:.2f}%\".format(score), (10, 30),\n",
    "\tcv2.FONT_HERSHEY_SIMPLEX, 0.9, (0, 0, 255), 2)\n",
    "cv2.imshow(\"Original\", test1_blank)\n",
    "cv2.imshow(\"Exam\", paper)\n",
    "cv2.waitKey(1)"
   ]
  },
  {
   "cell_type": "code",
   "execution_count": null,
   "metadata": {},
   "outputs": [],
   "source": []
  }
 ],
 "metadata": {
  "kernelspec": {
   "display_name": "Python 3",
   "language": "python",
   "name": "python3"
  },
  "language_info": {
   "codemirror_mode": {
    "name": "ipython",
    "version": 3
   },
   "file_extension": ".py",
   "mimetype": "text/x-python",
   "name": "python",
   "nbconvert_exporter": "python",
   "pygments_lexer": "ipython3",
   "version": "3.10.3 (main, Mar 30 2022, 20:01:49) [Clang 13.0.0 (clang-1300.0.29.30)]"
  },
  "orig_nbformat": 4,
  "vscode": {
   "interpreter": {
    "hash": "431fa07a4aa2bd58eb61732d78b635907528e03286f3bb4bef88ad56c37b918c"
   }
  }
 },
 "nbformat": 4,
 "nbformat_minor": 2
}
